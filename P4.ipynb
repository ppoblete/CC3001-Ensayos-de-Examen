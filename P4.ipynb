{
 "cells": [
  {
   "cell_type": "markdown",
   "metadata": {},
   "source": [
    "# CC3001 Ensayo de Examen P4"
   ]
  },
  {
   "cell_type": "markdown",
   "metadata": {},
   "source": [
    "## Parte (a)\n",
    "\n",
    "Esto había que hacerlo a mano, pero para esta pauta usamos el algoritmo del apunte:"
   ]
  },
  {
   "cell_type": "code",
   "execution_count": 1,
   "metadata": {},
   "outputs": [],
   "source": [
    "class Nodoi:\n",
    "    def __init__(self, izq, info, der):\n",
    "        self.izq=izq\n",
    "        self.info=info\n",
    "        self.der=der\n",
    "        self.height=1+max(izq.height,der.height)\n",
    "\n",
    "    def right_rotation(self):\n",
    "        return(Nodoi(self.izq.izq,\n",
    "                     self.izq.info,\n",
    "                     Nodoi(self.izq.der,self.info,self.der)))\n",
    "    \n",
    "    def left_rotation(self):\n",
    "        return(Nodoi(Nodoi(self.izq,self.info,self.der.izq),\n",
    "                     self.der.info,\n",
    "                     self.der.der))\n",
    "        \n",
    "    def insert(self,x):\n",
    "        assert x!=self.info\n",
    "        if x<self.info:\n",
    "            p=Nodoi(self.izq.insert(x),self.info,self.der)\n",
    "            if p.izq.height>p.der.height+1:\n",
    "                if x<p.izq.info: # inserción exterior\n",
    "                    p=p.right_rotation()\n",
    "                else: # inserción interior\n",
    "                    p=Nodoi(p.izq.left_rotation(),p.info,p.der).right_rotation()           \n",
    "        else: # x>self.info, simétrico del anterior\n",
    "            p=Nodoi(self.izq,self.info,self.der.insert(x))\n",
    "            if p.der.height>p.izq.height+1:\n",
    "                if x>p.der.info: # inserción exterior\n",
    "                    p=p.left_rotation()\n",
    "                else: # inserción interior\n",
    "                    p=Nodoi(p.izq,p.info,p.der.right_rotation()).left_rotation()         \n",
    "        return p\n",
    "        \n",
    "    def string(self):\n",
    "        return \"(\"+self.izq.string()+str(self.info)+self.der.string()+\")\"\n",
    "\n",
    "class Nodoe:\n",
    "    def __init__(self):\n",
    "        self.height=0\n",
    "    \n",
    "    def insert(self,x):\n",
    "        return Nodoi(Nodoe(),x,Nodoe())\n",
    "    \n",
    "    def string(self):\n",
    "        return\"☐\"\n",
    "\n",
    "class ArbolAVL:\n",
    "    def __init__(self,raiz=Nodoe()):\n",
    "        self.raiz=raiz     \n",
    "        \n",
    "    def insert(self,x):\n",
    "        self.raiz=self.raiz.insert(x)\n",
    "    \n",
    "    def imprimir(self):        \n",
    "        print(self.raiz.string())"
   ]
  },
  {
   "cell_type": "code",
   "execution_count": 2,
   "metadata": {},
   "outputs": [
    {
     "name": "stdout",
     "output_type": "stream",
     "text": [
      "☐\n",
      "(☐5☐)\n",
      "((☐2☐)5☐)\n",
      "((☐2☐)5(☐20☐))\n",
      "((☐2☐)5(☐20(☐25☐)))\n",
      "((☐2☐)5((☐20☐)25(☐50☐)))\n",
      "(((☐2☐)5(☐15☐))20(☐25(☐50☐)))\n"
     ]
    }
   ],
   "source": [
    "a=ArbolAVL()\n",
    "a.imprimir()\n",
    "a.insert(5)\n",
    "a.imprimir()\n",
    "a.insert(2)\n",
    "a.imprimir()\n",
    "a.insert(20)\n",
    "a.imprimir()\n",
    "a.insert(25)\n",
    "a.imprimir()\n",
    "a.insert(50)\n",
    "a.imprimir()\n",
    "a.insert(15)\n",
    "a.imprimir()"
   ]
  },
  {
   "cell_type": "markdown",
   "metadata": {},
   "source": [
    "## Parte (b)\n",
    "\n",
    "Tomamos la implementación de ABBs del apunte, le agregamos el campo ``size`` (eso no se pedía, per fíjense en el constructor) y los métodos ``select`` que se pedían."
   ]
  },
  {
   "cell_type": "code",
   "execution_count": 3,
   "metadata": {},
   "outputs": [],
   "source": [
    "class Nodoi:\n",
    "    def __init__(self, izq, info, der):\n",
    "        self.izq=izq\n",
    "        self.info=info\n",
    "        self.der=der\n",
    "        self.size=izq.size+der.size+1\n",
    "        \n",
    "    def search(self,x):\n",
    "        if x==self.info:\n",
    "            return self\n",
    "        if x<self.info:\n",
    "            return self.izq.search(x)\n",
    "        else:\n",
    "            return self.der.search(x)\n",
    "        \n",
    "    def insert(self,x):\n",
    "        assert x!=self.info\n",
    "        if x<self.info:\n",
    "            return Nodoi(self.izq.insert(x),self.info,self.der)\n",
    "        else:\n",
    "            return Nodoi(self.izq,self.info,self.der.insert(x))\n",
    "        \n",
    "    def string(self):\n",
    "        return \"(\"+self.izq.string()+str(self.info)+\"/\"+str(self.size)+self.der.string()+\")\"\n",
    "    \n",
    "    def select(self,k):\n",
    "        if k<=self.izq.size:\n",
    "            return self.izq.select(k)\n",
    "        if k==self.izq.size+1:\n",
    "            return self\n",
    "        return self.der.select(k-self.izq.size-1)\n",
    "\n",
    "class Nodoe:\n",
    "    def __init__(self):\n",
    "        self.size=0\n",
    "    \n",
    "    def search(self,x):\n",
    "        return None\n",
    "    \n",
    "    def insert(self,x):\n",
    "        return Nodoi(Nodoe(),x,Nodoe())\n",
    "    \n",
    "    def string(self):\n",
    "        return \"☐\"\n",
    "    \n",
    "    def select(self,k):\n",
    "        return None\n",
    "\n",
    "class Arbol:\n",
    "    def __init__(self,raiz=Nodoe()):\n",
    "        self.raiz=raiz     \n",
    "        \n",
    "    def insert(self,x):\n",
    "        self.raiz=self.raiz.insert(x)\n",
    "        \n",
    "    def search(self,x):\n",
    "        return self.raiz.search(x)\n",
    "    \n",
    "    def imprimir(self):        \n",
    "        print(self.raiz.string())\n",
    "        \n",
    "    def select(self,k):\n",
    "        return self.raiz.select(k)"
   ]
  },
  {
   "cell_type": "markdown",
   "metadata": {},
   "source": [
    "Al imprimir el árbol, usamos la notación \"``info/size``\""
   ]
  },
  {
   "cell_type": "code",
   "execution_count": 4,
   "metadata": {},
   "outputs": [
    {
     "name": "stdout",
     "output_type": "stream",
     "text": [
      "(((☐12/1☐)20/4((☐25/1☐)35/2☐))42/9(☐51/4(☐60/3((☐65/1☐)74/2☐))))\n"
     ]
    }
   ],
   "source": [
    "a=Arbol(Nodoi(Nodoi(Nodoi(Nodoe(),12,Nodoe()),20,Nodoi(Nodoi(Nodoe(),25,Nodoe()),35,Nodoe())),\n",
    "              42,\n",
    "              Nodoi(Nodoe(),51,Nodoi(Nodoe(),60,Nodoi(Nodoi(Nodoe(),65,Nodoe()),74,Nodoe())))))\n",
    "a.imprimir()"
   ]
  },
  {
   "cell_type": "markdown",
   "metadata": {},
   "source": [
    "A continuación probamos los ejemplos del enunciado:"
   ]
  },
  {
   "cell_type": "code",
   "execution_count": 5,
   "metadata": {},
   "outputs": [
    {
     "name": "stdout",
     "output_type": "stream",
     "text": [
      "12\n"
     ]
    }
   ],
   "source": [
    "print(a.select(1).info)"
   ]
  },
  {
   "cell_type": "code",
   "execution_count": 6,
   "metadata": {},
   "outputs": [
    {
     "name": "stdout",
     "output_type": "stream",
     "text": [
      "42\n"
     ]
    }
   ],
   "source": [
    "print(a.select(5).info)"
   ]
  },
  {
   "cell_type": "code",
   "execution_count": 7,
   "metadata": {},
   "outputs": [
    {
     "name": "stdout",
     "output_type": "stream",
     "text": [
      "65\n"
     ]
    }
   ],
   "source": [
    "print(a.select(8).info)"
   ]
  },
  {
   "cell_type": "markdown",
   "metadata": {},
   "source": [
    "Finalmente, probamos un par de casos fuera de rango:"
   ]
  },
  {
   "cell_type": "code",
   "execution_count": 8,
   "metadata": {},
   "outputs": [
    {
     "name": "stdout",
     "output_type": "stream",
     "text": [
      "None None\n"
     ]
    }
   ],
   "source": [
    "print(a.select(0), a.select(10))"
   ]
  }
 ],
 "metadata": {
  "kernelspec": {
   "display_name": "Python 3",
   "language": "python",
   "name": "python3"
  },
  "language_info": {
   "codemirror_mode": {
    "name": "ipython",
    "version": 3
   },
   "file_extension": ".py",
   "mimetype": "text/x-python",
   "name": "python",
   "nbconvert_exporter": "python",
   "pygments_lexer": "ipython3",
   "version": "3.7.1"
  }
 },
 "nbformat": 4,
 "nbformat_minor": 2
}
