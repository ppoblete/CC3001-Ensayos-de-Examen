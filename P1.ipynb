{
 "cells": [
  {
   "cell_type": "markdown",
   "metadata": {},
   "source": [
    "# CC3001 2020-1 Ensayos de Examen P1"
   ]
  },
  {
   "cell_type": "markdown",
   "metadata": {},
   "source": [
    "## Parte (a)\n",
    "\n",
    "Dada la ecuación $a_n = 2a_{n-1}+a_{n-2}$, suponemos un asolución de la forma $a_n=\\lambda^n$, y sustituyendo tenemos $\\lambda^n=2\\lambda^{n-1}+\\lambda^{n-2}$, lo que da la ecuación característica\n",
    "\n",
    "$$\n",
    "\\lambda^2-2\\lambda-1=0\n",
    "$$\n",
    "\n",
    "cuyas raíces son $\\lambda=1\\pm\\sqrt{2}$. Por lo tanto la solución general es\n",
    "\n",
    "$$\n",
    "a_n=A(1+\\sqrt{2})^n+B(1-\\sqrt{2})^n\n",
    "$$\n",
    "\n",
    "La condición de borde $a_0=0$ implica que $B=-A$, por lo tanto\n",
    "\n",
    "$$\n",
    "a_n=A\\left((1+\\sqrt{2})^n-(1-\\sqrt{2})^n\\right)\n",
    "$$\n",
    "\n",
    "Aplicamos ahora la condición $a_1=4$, obteniendo $A(2\\sqrt{2})=4$, lo que implica que $A=\\sqrt{2}$, con lo que la solución es\n",
    "\n",
    "$$\n",
    "a_n=\\sqrt{2}\\left((1+\\sqrt{2})^n-(1-\\sqrt{2})^n\\right)\n",
    "$$"
   ]
  },
  {
   "cell_type": "markdown",
   "metadata": {},
   "source": [
    "## Parte (b)\n",
    "\n",
    "Usamos un puntero ``p`` para ir recorriendo la lista de modo que ``p`` apunta siempre al último elemento que sabemos que es positivo."
   ]
  },
  {
   "cell_type": "code",
   "execution_count": null,
   "metadata": {},
   "outputs": [],
   "source": [
    "def filtrapositivos():\n",
    "    p=self.cabecera\n",
    "    while p.sgte is not None:\n",
    "        if p.sgte.info<=0:\n",
    "            p.sgte=p.sgte.sgte\n",
    "        else:\n",
    "            p=p.sgte"
   ]
  },
  {
   "cell_type": "markdown",
   "metadata": {},
   "source": [
    "### Bonus Track\n",
    "\n",
    "Lo que viene a continuación no se pedía, pero para confirmar que el código está bueno, vamos a copiar toda la parte relevante de definición de la clase y aplicarla sobre un ejemplo:"
   ]
  },
  {
   "cell_type": "code",
   "execution_count": 9,
   "metadata": {},
   "outputs": [],
   "source": [
    "class Nodo:\n",
    "    def __init__(self, info, sgte=None):\n",
    "        self.info=info\n",
    "        self.sgte=sgte\n",
    "        \n",
    "class Lista_con_cabecera:\n",
    "    def __init__(self):\n",
    "        self.cabecera=Nodo(0,None)\n",
    "    \n",
    "    def insertar_despues_de(self,p,info): # inserta después de nodo p\n",
    "        p.sgte=Nodo(info,p.sgte)\n",
    "    \n",
    "    def filtrapositivos(self):\n",
    "        p=self.cabecera\n",
    "        while p.sgte is not None:\n",
    "            if p.sgte.info<=0:\n",
    "                p.sgte=p.sgte.sgte\n",
    "            else:\n",
    "                p=p.sgte\n",
    "    \n",
    "    def imprimir(self):\n",
    "        p=self.cabecera.sgte\n",
    "        while p is not None:\n",
    "            print(p.info,end=\" \")\n",
    "            p=p.sgte\n",
    "        print()"
   ]
  },
  {
   "cell_type": "markdown",
   "metadata": {},
   "source": [
    "A continuación insertamos elementos para construir una lista:"
   ]
  },
  {
   "cell_type": "code",
   "execution_count": 10,
   "metadata": {},
   "outputs": [
    {
     "name": "stdout",
     "output_type": "stream",
     "text": [
      "14 -30 -52 40 17 -32 -10 25 \n"
     ]
    }
   ],
   "source": [
    "a=Lista_con_cabecera()\n",
    "a.insertar_despues_de(a.cabecera,25)\n",
    "a.insertar_despues_de(a.cabecera,-10)\n",
    "a.insertar_despues_de(a.cabecera,-32)\n",
    "a.insertar_despues_de(a.cabecera,17)\n",
    "a.insertar_despues_de(a.cabecera,40)\n",
    "a.insertar_despues_de(a.cabecera,-52)\n",
    "a.insertar_despues_de(a.cabecera,-30)\n",
    "a.insertar_despues_de(a.cabecera,14)\n",
    "a.imprimir()"
   ]
  },
  {
   "cell_type": "markdown",
   "metadata": {},
   "source": [
    "Y ahora aplicamos la función filtrapositivos, e imprimimos para ver el resultado:"
   ]
  },
  {
   "cell_type": "code",
   "execution_count": 11,
   "metadata": {},
   "outputs": [
    {
     "name": "stdout",
     "output_type": "stream",
     "text": [
      "14 40 17 25 \n"
     ]
    }
   ],
   "source": [
    "a.filtrapositivos()\n",
    "a.imprimir()"
   ]
  }
 ],
 "metadata": {
  "kernelspec": {
   "display_name": "Python 3",
   "language": "python",
   "name": "python3"
  },
  "language_info": {
   "codemirror_mode": {
    "name": "ipython",
    "version": 3
   },
   "file_extension": ".py",
   "mimetype": "text/x-python",
   "name": "python",
   "nbconvert_exporter": "python",
   "pygments_lexer": "ipython3",
   "version": "3.7.1"
  }
 },
 "nbformat": 4,
 "nbformat_minor": 2
}
