{
 "cells": [
  {
   "cell_type": "markdown",
   "metadata": {},
   "source": [
    "# CC3001 2020-1 Ensayos de Examen P2"
   ]
  },
  {
   "cell_type": "markdown",
   "metadata": {},
   "source": [
    "# Parte (a)"
   ]
  },
  {
   "cell_type": "markdown",
   "metadata": {},
   "source": [
    "Esta pregunta era para resolverla a mano, pero si alguien la resolvió programando algo como lo que sigue, también está bien:"
   ]
  },
  {
   "cell_type": "code",
   "execution_count": 20,
   "metadata": {},
   "outputs": [],
   "source": [
    "class Nodoi:\n",
    "    def __init__(self, izq, info, der):\n",
    "        self.izq=izq\n",
    "        self.info=info\n",
    "        self.der=der\n",
    "    def altura(self):\n",
    "        return 1+max(self.izq.altura(),self.der.altura())\n",
    "    def preorden(self):\n",
    "        print(self.info, end=\" \")\n",
    "        self.izq.preorden()\n",
    "        self.der.preorden()\n",
    "    def inorden(self):\n",
    "        self.izq.inorden()\n",
    "        print(self.info, end=\" \")\n",
    "        self.der.inorden()\n",
    "    def postorden(self):\n",
    "        self.izq.postorden()\n",
    "        self.der.postorden()\n",
    "        print(self.info, end=\" \")\n",
    "\n",
    "class Nodoe:\n",
    "    def __init__(self):\n",
    "        pass\n",
    "    def altura(self):\n",
    "        return 0\n",
    "    def preorden(self):\n",
    "        pass\n",
    "    def inorden(self):\n",
    "        pass\n",
    "    def postorden(self):\n",
    "        pass\n",
    "class Arbol:\n",
    "    def __init__(self,raiz=Nodoe()):\n",
    "        self.raiz=raiz\n",
    "    def altura(self):\n",
    "        return self.raiz.altura()\n",
    "    def preorden(self):\n",
    "        print(\"Preorden:\", end=\" \")\n",
    "        self.raiz.preorden()\n",
    "        print()\n",
    "    def inorden(self):\n",
    "        print(\"Inorden:\", end=\" \")\n",
    "        self.raiz.inorden()\n",
    "        print()\n",
    "    def postorden(self):\n",
    "        print(\"Postorden:\", end=\" \")\n",
    "        self.raiz.postorden()\n",
    "        print()"
   ]
  },
  {
   "cell_type": "code",
   "execution_count": 21,
   "metadata": {},
   "outputs": [],
   "source": [
    "a=Arbol(Nodoi(Nodoi(Nodoe(),\"U\",Nodoi(Nodoi(Nodoe(),\"N\",Nodoe()),\"I\",Nodoi(Nodoe(),\"V\",Nodoe()))),\"E\",\n",
    "                       Nodoi(Nodoi(Nodoe(),\"R\",Nodoe()),\"S\",Nodoi(Nodoe(),\"O\",Nodoe()))))"
   ]
  },
  {
   "cell_type": "code",
   "execution_count": 22,
   "metadata": {},
   "outputs": [
    {
     "data": {
      "text/plain": [
       "4"
      ]
     },
     "execution_count": 22,
     "metadata": {},
     "output_type": "execute_result"
    }
   ],
   "source": [
    "a.altura()"
   ]
  },
  {
   "cell_type": "code",
   "execution_count": 23,
   "metadata": {},
   "outputs": [
    {
     "name": "stdout",
     "output_type": "stream",
     "text": [
      "Preorden: E U I N V S R O \n",
      "Inorden: U N I V E R S O \n",
      "Postorden: N V I U R O S E \n"
     ]
    }
   ],
   "source": [
    "a.preorden()\n",
    "a.inorden()\n",
    "a.postorden()"
   ]
  },
  {
   "cell_type": "markdown",
   "metadata": {},
   "source": [
    "## Parte (b)"
   ]
  },
  {
   "cell_type": "markdown",
   "metadata": {},
   "source": [
    "Usamos una implementación simple para la pila."
   ]
  },
  {
   "cell_type": "code",
   "execution_count": 24,
   "metadata": {},
   "outputs": [],
   "source": [
    "class Pila:\n",
    "    def __init__(self):\n",
    "        self.s=[]\n",
    "    def push(self,x):\n",
    "        self.s.append(x)\n",
    "    def pop(self):\n",
    "        assert len(self.s)>0\n",
    "        return self.s.pop() # pop de lista, no de Pila\n",
    "    def is_empty(self):\n",
    "        return len(self.s)==0"
   ]
  },
  {
   "cell_type": "markdown",
   "metadata": {},
   "source": [
    "Ésta es la versión del enunciado."
   ]
  },
  {
   "cell_type": "code",
   "execution_count": 25,
   "metadata": {},
   "outputs": [],
   "source": [
    "def bienparentizada(s):\n",
    "    a=Pila()\n",
    "    for x in s:\n",
    "        if x==\"(\":\n",
    "            a.push(x)\n",
    "        elif x==\")\":\n",
    "            if a.is_empty():\n",
    "                return False # Cierra paréntesis de más\n",
    "            a.pop()\n",
    "    if not a.is_empty():\n",
    "        return False # Cierra paréntesis de menos\n",
    "    return True"
   ]
  },
  {
   "cell_type": "code",
   "execution_count": 26,
   "metadata": {},
   "outputs": [
    {
     "data": {
      "text/plain": [
       "True"
      ]
     },
     "execution_count": 26,
     "metadata": {},
     "output_type": "execute_result"
    }
   ],
   "source": [
    "bienparentizada(\"()()\")"
   ]
  },
  {
   "cell_type": "code",
   "execution_count": 27,
   "metadata": {},
   "outputs": [
    {
     "data": {
      "text/plain": [
       "False"
      ]
     },
     "execution_count": 27,
     "metadata": {},
     "output_type": "execute_result"
    }
   ],
   "source": [
    "bienparentizada(\"()())\")"
   ]
  },
  {
   "cell_type": "markdown",
   "metadata": {},
   "source": [
    "Esta es la versión generalizada que se pedía:"
   ]
  },
  {
   "cell_type": "code",
   "execution_count": 28,
   "metadata": {},
   "outputs": [],
   "source": [
    "def bienparentizada(s):\n",
    "    a=Pila()\n",
    "    for x in s:\n",
    "        if x==\"(\" or x==\"[\" or x==\"{\":\n",
    "            a.push(x)\n",
    "        elif x==\")\" or x==\"]\" or x==\"}\":\n",
    "            if a.is_empty():\n",
    "                return False # Cierra paréntesis de más\n",
    "            y=a.pop()\n",
    "            if (y==\"(\" and x!=\")\") or (y==\"[\" and x!=\"]\") or (y==\"{\" and x!=\"}\"):\n",
    "                return False # Paréntesis no calzan\n",
    "    if not a.is_empty():\n",
    "        return False # Cierra paréntesis de menos\n",
    "    return True"
   ]
  },
  {
   "cell_type": "code",
   "execution_count": 29,
   "metadata": {},
   "outputs": [
    {
     "data": {
      "text/plain": [
       "True"
      ]
     },
     "execution_count": 29,
     "metadata": {},
     "output_type": "execute_result"
    }
   ],
   "source": [
    "bienparentizada(\"([]{({})})\")"
   ]
  },
  {
   "cell_type": "code",
   "execution_count": 10,
   "metadata": {},
   "outputs": [
    {
     "data": {
      "text/plain": [
       "False"
      ]
     },
     "execution_count": 10,
     "metadata": {},
     "output_type": "execute_result"
    }
   ],
   "source": [
    "bienparentizada(\"([)]\")"
   ]
  }
 ],
 "metadata": {
  "kernelspec": {
   "display_name": "Python 3",
   "language": "python",
   "name": "python3"
  },
  "language_info": {
   "codemirror_mode": {
    "name": "ipython",
    "version": 3
   },
   "file_extension": ".py",
   "mimetype": "text/x-python",
   "name": "python",
   "nbconvert_exporter": "python",
   "pygments_lexer": "ipython3",
   "version": "3.7.1"
  }
 },
 "nbformat": 4,
 "nbformat_minor": 2
}
